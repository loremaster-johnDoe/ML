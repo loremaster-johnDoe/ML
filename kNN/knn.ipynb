{
 "cells": [
  {
   "cell_type": "code",
   "execution_count": 1,
   "id": "80cfabb7-9350-4654-9e26-153ab11a4046",
   "metadata": {},
   "outputs": [],
   "source": [
    "import pandas as pd\n",
    "import knn"
   ]
  },
  {
   "cell_type": "code",
   "execution_count": 2,
   "id": "f49c6c0f-28e5-4814-982d-522bad798a15",
   "metadata": {},
   "outputs": [],
   "source": [
    "df = pd.DataFrame({\"y\":[1,0,0,1,1,1,0,1,0,0], \"c1\":[1,2,3,4,5,6,7,8,9,10]})"
   ]
  },
  {
   "cell_type": "code",
   "execution_count": 3,
   "id": "58328998-3009-4eab-af2a-23bdcc0da311",
   "metadata": {},
   "outputs": [
    {
     "data": {
      "text/html": [
       "<div>\n",
       "<style scoped>\n",
       "    .dataframe tbody tr th:only-of-type {\n",
       "        vertical-align: middle;\n",
       "    }\n",
       "\n",
       "    .dataframe tbody tr th {\n",
       "        vertical-align: top;\n",
       "    }\n",
       "\n",
       "    .dataframe thead th {\n",
       "        text-align: right;\n",
       "    }\n",
       "</style>\n",
       "<table border=\"1\" class=\"dataframe\">\n",
       "  <thead>\n",
       "    <tr style=\"text-align: right;\">\n",
       "      <th></th>\n",
       "      <th>y</th>\n",
       "      <th>c1</th>\n",
       "    </tr>\n",
       "  </thead>\n",
       "  <tbody>\n",
       "    <tr>\n",
       "      <th>0</th>\n",
       "      <td>1</td>\n",
       "      <td>1</td>\n",
       "    </tr>\n",
       "    <tr>\n",
       "      <th>1</th>\n",
       "      <td>0</td>\n",
       "      <td>2</td>\n",
       "    </tr>\n",
       "    <tr>\n",
       "      <th>2</th>\n",
       "      <td>0</td>\n",
       "      <td>3</td>\n",
       "    </tr>\n",
       "    <tr>\n",
       "      <th>3</th>\n",
       "      <td>1</td>\n",
       "      <td>4</td>\n",
       "    </tr>\n",
       "    <tr>\n",
       "      <th>4</th>\n",
       "      <td>1</td>\n",
       "      <td>5</td>\n",
       "    </tr>\n",
       "    <tr>\n",
       "      <th>5</th>\n",
       "      <td>1</td>\n",
       "      <td>6</td>\n",
       "    </tr>\n",
       "    <tr>\n",
       "      <th>6</th>\n",
       "      <td>0</td>\n",
       "      <td>7</td>\n",
       "    </tr>\n",
       "    <tr>\n",
       "      <th>7</th>\n",
       "      <td>1</td>\n",
       "      <td>8</td>\n",
       "    </tr>\n",
       "    <tr>\n",
       "      <th>8</th>\n",
       "      <td>0</td>\n",
       "      <td>9</td>\n",
       "    </tr>\n",
       "    <tr>\n",
       "      <th>9</th>\n",
       "      <td>0</td>\n",
       "      <td>10</td>\n",
       "    </tr>\n",
       "  </tbody>\n",
       "</table>\n",
       "</div>"
      ],
      "text/plain": [
       "   y  c1\n",
       "0  1   1\n",
       "1  0   2\n",
       "2  0   3\n",
       "3  1   4\n",
       "4  1   5\n",
       "5  1   6\n",
       "6  0   7\n",
       "7  1   8\n",
       "8  0   9\n",
       "9  0  10"
      ]
     },
     "execution_count": 3,
     "metadata": {},
     "output_type": "execute_result"
    }
   ],
   "source": [
    "df.head(10)"
   ]
  },
  {
   "cell_type": "code",
   "execution_count": 4,
   "id": "c8aa62a0-ad04-4447-9c4e-fb32bf5b4464",
   "metadata": {},
   "outputs": [
    {
     "data": {
      "text/plain": [
       "(10, 2)"
      ]
     },
     "execution_count": 4,
     "metadata": {},
     "output_type": "execute_result"
    }
   ],
   "source": [
    "df.shape"
   ]
  },
  {
   "cell_type": "code",
   "execution_count": 5,
   "id": "26604390-cdb6-4a76-ac28-61ce44dc7dff",
   "metadata": {},
   "outputs": [],
   "source": [
    "x_train = df[\"c1\"].values.reshape((10,1))\n",
    "y = df[\"y\"].values.reshape((10,1))"
   ]
  },
  {
   "cell_type": "code",
   "execution_count": 6,
   "id": "b1ebeece-6e32-4df7-8e49-8ad7c2f22438",
   "metadata": {},
   "outputs": [],
   "source": [
    "pred_label = knn.predict(x_train, y, [11], 3)[0]"
   ]
  },
  {
   "cell_type": "code",
   "execution_count": 7,
   "id": "24c6b9b6-a41e-4813-b99a-1cb82ac044e6",
   "metadata": {},
   "outputs": [
    {
     "name": "stdout",
     "output_type": "stream",
     "text": [
      "[array([0])]\n"
     ]
    }
   ],
   "source": [
    "print(pred_label)"
   ]
  },
  {
   "cell_type": "code",
   "execution_count": 8,
   "id": "53596f56-9e5e-4543-b64e-0bbcd1f3e191",
   "metadata": {},
   "outputs": [],
   "source": [
    "nearest_indices = knn.predict(x_train, y, [11], 3)[1]"
   ]
  },
  {
   "cell_type": "code",
   "execution_count": 9,
   "id": "8b2886d1-8cfa-4969-84cd-fbedd107c4cf",
   "metadata": {},
   "outputs": [
    {
     "name": "stdout",
     "output_type": "stream",
     "text": [
      "[9 8 7]\n"
     ]
    }
   ],
   "source": [
    "print(nearest_indices)"
   ]
  },
  {
   "cell_type": "code",
   "execution_count": null,
   "id": "28e5f5be-8e64-41a9-b111-769494db01db",
   "metadata": {},
   "outputs": [],
   "source": []
  }
 ],
 "metadata": {
  "kernelspec": {
   "display_name": "Python 3 (ipykernel)",
   "language": "python",
   "name": "python3"
  },
  "language_info": {
   "codemirror_mode": {
    "name": "ipython",
    "version": 3
   },
   "file_extension": ".py",
   "mimetype": "text/x-python",
   "name": "python",
   "nbconvert_exporter": "python",
   "pygments_lexer": "ipython3",
   "version": "3.9.12"
  }
 },
 "nbformat": 4,
 "nbformat_minor": 5
}
